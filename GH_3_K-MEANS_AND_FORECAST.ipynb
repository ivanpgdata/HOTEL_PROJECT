{
 "cells": [
  {
   "cell_type": "markdown",
   "id": "8a2f09b1-7706-4621-a476-7d4acaf870f6",
   "metadata": {
    "jp-MarkdownHeadingCollapsed": true
   },
   "source": [
    "## Import libraries"
   ]
  },
  {
   "cell_type": "code",
   "execution_count": 1,
   "id": "b1f79123-b9ed-4159-803b-4902ed5c004c",
   "metadata": {},
   "outputs": [],
   "source": [
    "import pandas as pd\n",
    "import numpy as np\n",
    "\n",
    "# SK-Learn\n",
    "from sklearn.model_selection import train_test_split\n",
    "from sklearn.preprocessing import OneHotEncoder, LabelEncoder\n",
    "from sklearn.metrics import accuracy_score, recall_score, roc_auc_score\n",
    "from sklearn.feature_selection import RFE\n",
    "from sklearn.linear_model import LogisticRegression\n",
    "from sklearn.model_selection import GridSearchCV\n",
    "from sklearn.preprocessing import StandardScaler\n",
    "from sklearn.cluster import KMeans\n",
    "\n",
    "#XGBoost\n",
    "import xgboost as xgb\n",
    "\n",
    "#Graphs\n",
    "import matplotlib.pyplot as plt\n",
    "import seaborn as sns\n",
    "\n",
    "# Warnings\n",
    "import warnings\n",
    "warnings.filterwarnings(\"ignore\")"
   ]
  },
  {
   "cell_type": "markdown",
   "id": "794b17ea-d050-47e5-820a-d1674d690999",
   "metadata": {
    "jp-MarkdownHeadingCollapsed": true
   },
   "source": [
    "## Import dataset"
   ]
  },
  {
   "cell_type": "code",
   "execution_count": 2,
   "id": "1a19872f-73f5-4ae8-98bc-e45f5af98c1e",
   "metadata": {
    "scrolled": true
   },
   "outputs": [
    {
     "data": {
      "text/html": [
       "<div>\n",
       "<style scoped>\n",
       "    .dataframe tbody tr th:only-of-type {\n",
       "        vertical-align: middle;\n",
       "    }\n",
       "\n",
       "    .dataframe tbody tr th {\n",
       "        vertical-align: top;\n",
       "    }\n",
       "\n",
       "    .dataframe thead th {\n",
       "        text-align: right;\n",
       "    }\n",
       "</style>\n",
       "<table border=\"1\" class=\"dataframe\">\n",
       "  <thead>\n",
       "    <tr style=\"text-align: right;\">\n",
       "      <th></th>\n",
       "      <th>is_canceled</th>\n",
       "      <th>lead_time</th>\n",
       "      <th>arrival_date_year</th>\n",
       "      <th>arrival_date_month</th>\n",
       "      <th>arrival_date_day_of_month</th>\n",
       "      <th>stays_in_weekend_nights</th>\n",
       "      <th>stays_in_week_nights</th>\n",
       "      <th>adults</th>\n",
       "      <th>children</th>\n",
       "      <th>babies</th>\n",
       "      <th>...</th>\n",
       "      <th>customer_type</th>\n",
       "      <th>adr</th>\n",
       "      <th>required_car_parking_spaces</th>\n",
       "      <th>total_of_special_requests</th>\n",
       "      <th>reservation_status</th>\n",
       "      <th>arrival_date</th>\n",
       "      <th>L.O.S.</th>\n",
       "      <th>Generates_Rev</th>\n",
       "      <th>room_pax</th>\n",
       "      <th>adr_cat</th>\n",
       "    </tr>\n",
       "  </thead>\n",
       "  <tbody>\n",
       "    <tr>\n",
       "      <th>0</th>\n",
       "      <td>1</td>\n",
       "      <td>88</td>\n",
       "      <td>2015</td>\n",
       "      <td>7</td>\n",
       "      <td>1</td>\n",
       "      <td>0</td>\n",
       "      <td>4</td>\n",
       "      <td>2</td>\n",
       "      <td>0</td>\n",
       "      <td>0</td>\n",
       "      <td>...</td>\n",
       "      <td>Transient</td>\n",
       "      <td>76.5</td>\n",
       "      <td>0</td>\n",
       "      <td>1</td>\n",
       "      <td>Canceled</td>\n",
       "      <td>01/07/2015</td>\n",
       "      <td>4</td>\n",
       "      <td>0</td>\n",
       "      <td>2</td>\n",
       "      <td>Tipo2</td>\n",
       "    </tr>\n",
       "    <tr>\n",
       "      <th>1</th>\n",
       "      <td>1</td>\n",
       "      <td>65</td>\n",
       "      <td>2015</td>\n",
       "      <td>7</td>\n",
       "      <td>1</td>\n",
       "      <td>0</td>\n",
       "      <td>4</td>\n",
       "      <td>1</td>\n",
       "      <td>0</td>\n",
       "      <td>0</td>\n",
       "      <td>...</td>\n",
       "      <td>Transient</td>\n",
       "      <td>68.0</td>\n",
       "      <td>0</td>\n",
       "      <td>1</td>\n",
       "      <td>Canceled</td>\n",
       "      <td>01/07/2015</td>\n",
       "      <td>4</td>\n",
       "      <td>0</td>\n",
       "      <td>1</td>\n",
       "      <td>Tipo2</td>\n",
       "    </tr>\n",
       "    <tr>\n",
       "      <th>2</th>\n",
       "      <td>1</td>\n",
       "      <td>92</td>\n",
       "      <td>2015</td>\n",
       "      <td>7</td>\n",
       "      <td>1</td>\n",
       "      <td>2</td>\n",
       "      <td>4</td>\n",
       "      <td>2</td>\n",
       "      <td>0</td>\n",
       "      <td>0</td>\n",
       "      <td>...</td>\n",
       "      <td>Transient</td>\n",
       "      <td>76.5</td>\n",
       "      <td>0</td>\n",
       "      <td>2</td>\n",
       "      <td>Canceled</td>\n",
       "      <td>01/07/2015</td>\n",
       "      <td>6</td>\n",
       "      <td>0</td>\n",
       "      <td>2</td>\n",
       "      <td>Tipo2</td>\n",
       "    </tr>\n",
       "    <tr>\n",
       "      <th>3</th>\n",
       "      <td>1</td>\n",
       "      <td>100</td>\n",
       "      <td>2015</td>\n",
       "      <td>7</td>\n",
       "      <td>2</td>\n",
       "      <td>0</td>\n",
       "      <td>2</td>\n",
       "      <td>2</td>\n",
       "      <td>0</td>\n",
       "      <td>0</td>\n",
       "      <td>...</td>\n",
       "      <td>Transient</td>\n",
       "      <td>76.5</td>\n",
       "      <td>0</td>\n",
       "      <td>1</td>\n",
       "      <td>Canceled</td>\n",
       "      <td>02/07/2015</td>\n",
       "      <td>2</td>\n",
       "      <td>0</td>\n",
       "      <td>2</td>\n",
       "      <td>Tipo2</td>\n",
       "    </tr>\n",
       "    <tr>\n",
       "      <th>4</th>\n",
       "      <td>1</td>\n",
       "      <td>79</td>\n",
       "      <td>2015</td>\n",
       "      <td>7</td>\n",
       "      <td>2</td>\n",
       "      <td>0</td>\n",
       "      <td>3</td>\n",
       "      <td>2</td>\n",
       "      <td>0</td>\n",
       "      <td>0</td>\n",
       "      <td>...</td>\n",
       "      <td>Transient</td>\n",
       "      <td>76.5</td>\n",
       "      <td>0</td>\n",
       "      <td>1</td>\n",
       "      <td>Canceled</td>\n",
       "      <td>02/07/2015</td>\n",
       "      <td>3</td>\n",
       "      <td>0</td>\n",
       "      <td>2</td>\n",
       "      <td>Tipo2</td>\n",
       "    </tr>\n",
       "  </tbody>\n",
       "</table>\n",
       "<p>5 rows × 31 columns</p>\n",
       "</div>"
      ],
      "text/plain": [
       "   is_canceled  lead_time  arrival_date_year  arrival_date_month  \\\n",
       "0            1         88               2015                   7   \n",
       "1            1         65               2015                   7   \n",
       "2            1         92               2015                   7   \n",
       "3            1        100               2015                   7   \n",
       "4            1         79               2015                   7   \n",
       "\n",
       "   arrival_date_day_of_month  stays_in_weekend_nights  stays_in_week_nights  \\\n",
       "0                          1                        0                     4   \n",
       "1                          1                        0                     4   \n",
       "2                          1                        2                     4   \n",
       "3                          2                        0                     2   \n",
       "4                          2                        0                     3   \n",
       "\n",
       "   adults  children  babies  ... customer_type   adr  \\\n",
       "0       2         0       0  ...     Transient  76.5   \n",
       "1       1         0       0  ...     Transient  68.0   \n",
       "2       2         0       0  ...     Transient  76.5   \n",
       "3       2         0       0  ...     Transient  76.5   \n",
       "4       2         0       0  ...     Transient  76.5   \n",
       "\n",
       "  required_car_parking_spaces total_of_special_requests  reservation_status  \\\n",
       "0                           0                         1            Canceled   \n",
       "1                           0                         1            Canceled   \n",
       "2                           0                         2            Canceled   \n",
       "3                           0                         1            Canceled   \n",
       "4                           0                         1            Canceled   \n",
       "\n",
       "   arrival_date  L.O.S. Generates_Rev room_pax  adr_cat  \n",
       "0    01/07/2015       4             0        2    Tipo2  \n",
       "1    01/07/2015       4             0        1    Tipo2  \n",
       "2    01/07/2015       6             0        2    Tipo2  \n",
       "3    02/07/2015       2             0        2    Tipo2  \n",
       "4    02/07/2015       3             0        2    Tipo2  \n",
       "\n",
       "[5 rows x 31 columns]"
      ]
     },
     "execution_count": 2,
     "metadata": {},
     "output_type": "execute_result"
    }
   ],
   "source": [
    "df_original = pd.read_csv(\"DataFrameCityHotel_preprocesado.csv\")\n",
    "df = df_original.copy()\n",
    "df.head()"
   ]
  },
  {
   "cell_type": "code",
   "execution_count": 3,
   "id": "f921967a-b491-4cbc-beb8-17547e20e898",
   "metadata": {},
   "outputs": [],
   "source": [
    "df['Generates_Rev_bin'] = df['Generates_Rev'].astype(int)\n",
    "df['adr_rev'] = df['adr'] * df['Generates_Rev_bin']"
   ]
  },
  {
   "cell_type": "markdown",
   "id": "5554ba07-8161-459e-8961-e5fc2282bff4",
   "metadata": {},
   "source": [
    "## K-Means\n",
    "\n",
    "Let's use the K-means algorithm to cluster customers based on spending patterns. For this, we will use the following columns:\r\n",
    "\r\n",
    "   adr_revev\": This column provides information about the amount of revenue generated by each customer, which is a fundamental aspect of spending.\r\n",
    "    \"room_pax\": This column can influence the total customer spending, as more occupants generally imply higher consumption of services and amenities.\r\n",
    "    \"L.O.S\": This column also affects total spending, as a longer length of stay implies more nights of accommodation, consumption of services, and amenities."
   ]
  },
  {
   "cell_type": "markdown",
   "id": "436f5c59-dbcd-4472-8d3c-6d1f2032ae9d",
   "metadata": {},
   "source": [
    "### Normalize data\n",
    "scaler = StandardScaler()\n",
    "df_scaled = scaler.fit_transform(df[['adr_rev', 'room_pax', 'L.O.S.']])"
   ]
  },
  {
   "cell_type": "code",
   "execution_count": 5,
   "id": "607e9972-0d7c-4439-a45f-ae777d0b6c29",
   "metadata": {},
   "outputs": [
    {
     "data": {
      "text/plain": [
       "array([[-1.0533787 ,  0.07707732,  0.55357138],\n",
       "       [-1.0533787 , -1.53093074,  0.55357138],\n",
       "       [-1.0533787 ,  0.07707732,  1.65554805],\n",
       "       ...,\n",
       "       [ 1.5501613 ,  0.07707732,  2.20653639],\n",
       "       [ 0.67009842,  0.07707732,  2.20653639],\n",
       "       [ 1.44269161,  0.07707732,  3.30851306]])"
      ]
     },
     "execution_count": 5,
     "metadata": {},
     "output_type": "execute_result"
    }
   ],
   "source": [
    "df_scaled"
   ]
  },
  {
   "cell_type": "code",
   "execution_count": 6,
   "id": "42411219-cbf5-4600-8c47-5759d081cbe4",
   "metadata": {},
   "outputs": [
    {
     "data": {
      "text/html": [
       "<div>\n",
       "<style scoped>\n",
       "    .dataframe tbody tr th:only-of-type {\n",
       "        vertical-align: middle;\n",
       "    }\n",
       "\n",
       "    .dataframe tbody tr th {\n",
       "        vertical-align: top;\n",
       "    }\n",
       "\n",
       "    .dataframe thead th {\n",
       "        text-align: right;\n",
       "    }\n",
       "</style>\n",
       "<table border=\"1\" class=\"dataframe\">\n",
       "  <thead>\n",
       "    <tr style=\"text-align: right;\">\n",
       "      <th></th>\n",
       "      <th>adr_rev</th>\n",
       "      <th>room_pax</th>\n",
       "      <th>L.O.S.</th>\n",
       "    </tr>\n",
       "  </thead>\n",
       "  <tbody>\n",
       "    <tr>\n",
       "      <th>0</th>\n",
       "      <td>0.00</td>\n",
       "      <td>2</td>\n",
       "      <td>4</td>\n",
       "    </tr>\n",
       "    <tr>\n",
       "      <th>1</th>\n",
       "      <td>0.00</td>\n",
       "      <td>1</td>\n",
       "      <td>4</td>\n",
       "    </tr>\n",
       "    <tr>\n",
       "      <th>2</th>\n",
       "      <td>0.00</td>\n",
       "      <td>2</td>\n",
       "      <td>6</td>\n",
       "    </tr>\n",
       "    <tr>\n",
       "      <th>3</th>\n",
       "      <td>0.00</td>\n",
       "      <td>2</td>\n",
       "      <td>2</td>\n",
       "    </tr>\n",
       "    <tr>\n",
       "      <th>4</th>\n",
       "      <td>0.00</td>\n",
       "      <td>2</td>\n",
       "      <td>3</td>\n",
       "    </tr>\n",
       "    <tr>\n",
       "      <th>5</th>\n",
       "      <td>58.67</td>\n",
       "      <td>1</td>\n",
       "      <td>3</td>\n",
       "    </tr>\n",
       "    <tr>\n",
       "      <th>6</th>\n",
       "      <td>0.00</td>\n",
       "      <td>1</td>\n",
       "      <td>4</td>\n",
       "    </tr>\n",
       "    <tr>\n",
       "      <th>7</th>\n",
       "      <td>76.50</td>\n",
       "      <td>2</td>\n",
       "      <td>5</td>\n",
       "    </tr>\n",
       "    <tr>\n",
       "      <th>8</th>\n",
       "      <td>76.50</td>\n",
       "      <td>2</td>\n",
       "      <td>5</td>\n",
       "    </tr>\n",
       "    <tr>\n",
       "      <th>9</th>\n",
       "      <td>86.00</td>\n",
       "      <td>2</td>\n",
       "      <td>2</td>\n",
       "    </tr>\n",
       "  </tbody>\n",
       "</table>\n",
       "</div>"
      ],
      "text/plain": [
       "   adr_rev  room_pax  L.O.S.\n",
       "0     0.00         2       4\n",
       "1     0.00         1       4\n",
       "2     0.00         2       6\n",
       "3     0.00         2       2\n",
       "4     0.00         2       3\n",
       "5    58.67         1       3\n",
       "6     0.00         1       4\n",
       "7    76.50         2       5\n",
       "8    76.50         2       5\n",
       "9    86.00         2       2"
      ]
     },
     "execution_count": 6,
     "metadata": {},
     "output_type": "execute_result"
    }
   ],
   "source": [
    "df[['adr_rev', 'room_pax', 'L.O.S.']].head(10)"
   ]
  },
  {
   "cell_type": "code",
   "execution_count": 7,
   "id": "e9dc5428-2042-43c4-a218-b96ef978595e",
   "metadata": {},
   "outputs": [
    {
     "data": {
      "text/plain": [
       "(77858, 33)"
      ]
     },
     "execution_count": 7,
     "metadata": {},
     "output_type": "execute_result"
    }
   ],
   "source": [
    "df.shape"
   ]
  },
  {
   "cell_type": "code",
   "execution_count": 8,
   "id": "a5445723-79c7-4021-bf0a-c416c0abdd5d",
   "metadata": {},
   "outputs": [],
   "source": [
    "# Create columns with normalized data\n",
    "df['adr_rev_scaled'] = df_scaled[:, 0] \n",
    "df['room_pax_scaled'] = df_scaled[:, 0] \n",
    "df['L.O.S_scaled'] = df_scaled[:, 1] "
   ]
  },
  {
   "cell_type": "code",
   "execution_count": 9,
   "id": "60eeb60b-ee62-408c-ad15-970b091f7bb2",
   "metadata": {},
   "outputs": [],
   "source": [
    "range_n_clusters = range(2, 11)\n",
    "wcss_values = []\n",
    "silhouette_avg_values = []"
   ]
  },
  {
   "cell_type": "code",
   "execution_count": 10,
   "id": "2c0af364-a3fc-4678-af38-d560efd962c3",
   "metadata": {},
   "outputs": [
    {
     "name": "stderr",
     "output_type": "stream",
     "text": [
      "  File \"C:\\Users\\ivanp\\anaconda3\\lib\\site-packages\\joblib\\externals\\loky\\backend\\context.py\", line 217, in _count_physical_cores\n",
      "    raise ValueError(\n"
     ]
    }
   ],
   "source": [
    "for n_clusters in range_n_clusters:\n",
    "    kmeans = KMeans(n_clusters=n_clusters)\n",
    "    kmeans.fit(df_scaled)\n",
    "    wcss = kmeans.inertia_\n",
    "    from sklearn.metrics import silhouette_score\n",
    "    silhouette_avg = silhouette_score(df_scaled, kmeans.labels_)\n",
    "    wcss_values.append(wcss)\n",
    "    silhouette_avg_values.append(silhouette_avg)"
   ]
  },
  {
   "cell_type": "code",
   "execution_count": 11,
   "id": "40a7c381-b5df-4d33-aa18-dda6fe72b411",
   "metadata": {},
   "outputs": [
    {
     "data": {
      "image/png": "[encoded data removed]",
      "text/plain": [
       "<Figure size 600x300 with 1 Axes>"
      ]
     },
     "metadata": {},
     "output_type": "display_data"
    }
   ],
   "source": [
    "fig, ax1 = plt.subplots(figsize=(6, 3))\n",
    "\n",
    "color = 'tab:blue'\n",
    "ax1.set_xlabel('Clusters')\n",
    "ax1.set_ylabel('WCSS', color=color)\n",
    "ax1.plot(range_n_clusters, wcss_values, marker='o', color=color, label='WCSS')\n",
    "ax1.tick_params(axis='y', labelcolor=color)\n",
    "\n",
    "\n",
    "fig.tight_layout()  # Ajuste layout para la gráfica\n",
    "plt.title('Elbow Plot and Silhouette Coefficient to Determine the Optimal Number of Clusters')\n",
    "plt.show()"
   ]
  },
  {
   "cell_type": "markdown",
   "id": "26d6420a-8de6-4b74-856e-a12ef244b0c4",
   "metadata": {},
   "source": [
    "Based on the elbow plot, a value of k=4 appears to be most suitable for this analysis. At this point, the within-cluster sum of squares (WCSS) curve starts to flatten, indicating that adding more clusters does not significantly improve clustering. Additionally, the average silhouette coefficient reaches its maximum at k=4, indicating better separation between clusters and higher cohesion within them."
   ]
  },
  {
   "cell_type": "code",
   "execution_count": 12,
   "id": "16f8d94c-098b-4e3f-ae60-8026f22354df",
   "metadata": {},
   "outputs": [
    {
     "data": {
      "image/png": "[encoded data removed]",
      "text/plain": [
       "<Figure size 640x480 with 1 Axes>"
      ]
     },
     "metadata": {},
     "output_type": "display_data"
    }
   ],
   "source": [
    "plt.plot(range_n_clusters, silhouette_avg_values)\n",
    "plt.title('Elbow Plot - Average Silhouette Coefficient')\n",
    "plt.xlabel('Clusters (k)')\n",
    "plt.ylabel('Silhouette Average')\n",
    "plt.show()"
   ]
  },
  {
   "cell_type": "markdown",
   "id": "1eee5db8-4d4b-48c2-8791-f6bffe08b3c7",
   "metadata": {},
   "source": [
    "Based on the elbow plot, there is no clearly defined value of k as the optimal number of clusters. However, the values k=5 and k=7 could be considered as potentially good options. Given that the WCSS curve commonly suggests 4 as the number of clusters, we will use that number of clusters."
   ]
  },
  {
   "cell_type": "markdown",
   "id": "24a155ad-89ae-43a3-988e-51be44ee2daa",
   "metadata": {},
   "source": [
    "#### K-Means"
   ]
  },
  {
   "cell_type": "code",
   "execution_count": 13,
   "id": "cfbd7169-5efa-4cc8-b109-d6444b5443d3",
   "metadata": {},
   "outputs": [],
   "source": [
    "k = 4\n",
    "kmeans = KMeans(n_clusters=k)\n",
    "kmeans.fit(df[['adr_rev_scaled', 'room_pax_scaled', 'L.O.S_scaled']]) # normalized above\n",
    "df['cluster'] = kmeans.labels_"
   ]
  },
  {
   "cell_type": "code",
   "execution_count": 14,
   "id": "517e7593-c64a-4e9b-b76f-49779f15d51b",
   "metadata": {},
   "outputs": [
    {
     "data": {
      "text/plain": [
       "array([[-1.04785417, -1.04785417,  0.03029818],\n",
       "       [ 1.66812116,  1.66812116,  1.86230205],\n",
       "       [ 0.63100851,  0.63100851,  0.10375857],\n",
       "       [ 0.51683284,  0.51683284, -1.53093074]])"
      ]
     },
     "execution_count": 14,
     "metadata": {},
     "output_type": "execute_result"
    }
   ],
   "source": [
    "# Access the centroids\n",
    "centroides = kmeans.cluster_centers_\n",
    "centroides"
   ]
  },
  {
   "cell_type": "code",
   "execution_count": 15,
   "id": "7d757da3-9110-49cb-915d-34de0383c49a",
   "metadata": {},
   "outputs": [
    {
     "data": {
      "text/plain": [
       "array([[  0.33464936,   1.30041924,   3.05030077],\n",
       "       [164.85544415,   2.98945017,   6.37524205],\n",
       "       [102.03212048,   2.34448284,   3.18362553],\n",
       "       [ 95.11590422,   2.27347843,   0.21679447]])"
      ]
     },
     "execution_count": 15,
     "metadata": {},
     "output_type": "execute_result"
    }
   ],
   "source": [
    "# Denormalize\n",
    "centroides_desnormalizados = scaler.inverse_transform(centroides)\n",
    "centroides_desnormalizados"
   ]
  },
  {
   "cell_type": "markdown",
   "id": "c6caf0ed-1010-4fbc-b40c-3b8e5860bdf5",
   "metadata": {},
   "source": [
    "#### Scatter Plot"
   ]
  },
  {
   "cell_type": "code",
   "execution_count": 16,
   "id": "250fb773-7e47-4fe4-a523-5a1dd7e72e71",
   "metadata": {},
   "outputs": [
    {
     "data": {
      "image/png": "[encoded data removed]",
      "text/plain": [
       "<Figure size 640x480 with 1 Axes>"
      ]
     },
     "metadata": {},
     "output_type": "display_data"
    }
   ],
   "source": [
    "sns.scatterplot(\n",
    "    x=\"adr_rev_scaled\",\n",
    "    y=\"room_pax_scaled\",\n",
    "    hue=\"cluster\",\n",
    "    data=df,\n",
    "    palette=\"tab10\",  # Use an appropriate color palette for 10 clusters\n",
    ")\n",
    "plt.title(\"Distribution of Customers in Clusters\")\n",
    "plt.show()"
   ]
  },
  {
   "cell_type": "markdown",
   "id": "9e5dd783-820d-464a-b9a1-475a8c9c687f",
   "metadata": {},
   "source": [
    "#### PCA\n",
    "\n",
    "The goal of performing PCA is to reduce the dimensionality of the data and visualize it in a two-dimensional space"
   ]
  },
  {
   "cell_type": "code",
   "execution_count": 17,
   "id": "3cb2901b-6077-49af-ad6e-cc29b2ff65fb",
   "metadata": {},
   "outputs": [
    {
     "data": {
      "text/html": [
       "<style>#sk-container-id-1 {color: black;}#sk-container-id-1 pre{padding: 0;}#sk-container-id-1 div.sk-toggleable {background-color: white;}#sk-container-id-1 label.sk-toggleable__label {cursor: pointer;display: block;width: 100%;margin-bottom: 0;padding: 0.3em;box-sizing: border-box;text-align: center;}#sk-container-id-1 label.sk-toggleable__label-arrow:before {content: \"▸\";float: left;margin-right: 0.25em;color: #696969;}#sk-container-id-1 label.sk-toggleable__label-arrow:hover:before {color: black;}#sk-container-id-1 div.sk-estimator:hover label.sk-toggleable__label-arrow:before {color: black;}#sk-container-id-1 div.sk-toggleable__content {max-height: 0;max-width: 0;overflow: hidden;text-align: left;background-color: #f0f8ff;}#sk-container-id-1 div.sk-toggleable__content pre {margin: 0.2em;color: black;border-radius: 0.25em;background-color: #f0f8ff;}#sk-container-id-1 input.sk-toggleable__control:checked~div.sk-toggleable__content {max-height: 200px;max-width: 100%;overflow: auto;}#sk-container-id-1 input.sk-toggleable__control:checked~label.sk-toggleable__label-arrow:before {content: \"▾\";}#sk-container-id-1 div.sk-estimator input.sk-toggleable__control:checked~label.sk-toggleable__label {background-color: #d4ebff;}#sk-container-id-1 div.sk-label input.sk-toggleable__control:checked~label.sk-toggleable__label {background-color: #d4ebff;}#sk-container-id-1 input.sk-hidden--visually {border: 0;clip: rect(1px 1px 1px 1px);clip: rect(1px, 1px, 1px, 1px);height: 1px;margin: -1px;overflow: hidden;padding: 0;position: absolute;width: 1px;}#sk-container-id-1 div.sk-estimator {font-family: monospace;background-color: #f0f8ff;border: 1px dotted black;border-radius: 0.25em;box-sizing: border-box;margin-bottom: 0.5em;}#sk-container-id-1 div.sk-estimator:hover {background-color: #d4ebff;}#sk-container-id-1 div.sk-parallel-item::after {content: \"\";width: 100%;border-bottom: 1px solid gray;flex-grow: 1;}#sk-container-id-1 div.sk-label:hover label.sk-toggleable__label {background-color: #d4ebff;}#sk-container-id-1 div.sk-serial::before {content: \"\";position: absolute;border-left: 1px solid gray;box-sizing: border-box;top: 0;bottom: 0;left: 50%;z-index: 0;}#sk-container-id-1 div.sk-serial {display: flex;flex-direction: column;align-items: center;background-color: white;padding-right: 0.2em;padding-left: 0.2em;position: relative;}#sk-container-id-1 div.sk-item {position: relative;z-index: 1;}#sk-container-id-1 div.sk-parallel {display: flex;align-items: stretch;justify-content: center;background-color: white;position: relative;}#sk-container-id-1 div.sk-item::before, #sk-container-id-1 div.sk-parallel-item::before {content: \"\";position: absolute;border-left: 1px solid gray;box-sizing: border-box;top: 0;bottom: 0;left: 50%;z-index: -1;}#sk-container-id-1 div.sk-parallel-item {display: flex;flex-direction: column;z-index: 1;position: relative;background-color: white;}#sk-container-id-1 div.sk-parallel-item:first-child::after {align-self: flex-end;width: 50%;}#sk-container-id-1 div.sk-parallel-item:last-child::after {align-self: flex-start;width: 50%;}#sk-container-id-1 div.sk-parallel-item:only-child::after {width: 0;}#sk-container-id-1 div.sk-dashed-wrapped {border: 1px dashed gray;margin: 0 0.4em 0.5em 0.4em;box-sizing: border-box;padding-bottom: 0.4em;background-color: white;}#sk-container-id-1 div.sk-label label {font-family: monospace;font-weight: bold;display: inline-block;line-height: 1.2em;}#sk-container-id-1 div.sk-label-container {text-align: center;}#sk-container-id-1 div.sk-container {/* jupyter's `normalize.less` sets `[hidden] { display: none; }` but bootstrap.min.css set `[hidden] { display: none !important; }` so we also need the `!important` here to be able to override the default hidden behavior on the sphinx rendered scikit-learn.org. See: https://github.com/scikit-learn/scikit-learn/issues/21755 */display: inline-block !important;position: relative;}#sk-container-id-1 div.sk-text-repr-fallback {display: none;}</style><div id=\"sk-container-id-1\" class=\"sk-top-container\"><div class=\"sk-text-repr-fallback\"><pre>PCA(n_components=2)</pre><b>In a Jupyter environment, please rerun this cell to show the HTML representation or trust the notebook. <br />On GitHub, the HTML representation is unable to render, please try loading this page with nbviewer.org.</b></div><div class=\"sk-container\" hidden><div class=\"sk-item\"><div class=\"sk-estimator sk-toggleable\"><input class=\"sk-toggleable__control sk-hidden--visually\" id=\"sk-estimator-id-1\" type=\"checkbox\" checked><label for=\"sk-estimator-id-1\" class=\"sk-toggleable__label sk-toggleable__label-arrow\">PCA</label><div class=\"sk-toggleable__content\"><pre>PCA(n_components=2)</pre></div></div></div></div></div>"
      ],
      "text/plain": [
       "PCA(n_components=2)"
      ]
     },
     "execution_count": 17,
     "metadata": {},
     "output_type": "execute_result"
    }
   ],
   "source": [
    "df_pca = df.copy()\n",
    "pca = PCA(n_components=2) \n",
    "pca.fit(df_pca[['adr_rev_scaled', 'room_pax_scaled', 'L.O.S_scaled']])"
   ]
  },
  {
   "cell_type": "code",
   "execution_count": 18,
   "id": "354776f0-bfb2-4c50-a6ee-802d1d35dcb2",
   "metadata": {},
   "outputs": [],
   "source": [
    "df_pca['pca_component_1'] = pca.transform(df_pca[['adr_rev_scaled', 'room_pax_scaled', 'L.O.S_scaled']])[:, 0]\n",
    "df_pca['pca_component_2'] = pca.transform(df_pca[['adr_rev_scaled', 'room_pax_scaled', 'L.O.S_scaled']])[:, 1]"
   ]
  },
  {
   "cell_type": "code",
   "execution_count": 19,
   "id": "c4693823-55fa-4b4e-a32d-a6be351b5c7c",
   "metadata": {},
   "outputs": [
    {
     "data": {
      "image/png": "[encoded data removed]",
      "text/plain": [
       "<Figure size 640x480 with 1 Axes>"
      ]
     },
     "metadata": {},
     "output_type": "display_data"
    }
   ],
   "source": [
    "sns.scatterplot(\n",
    "    x=\"pca_component_1\",\n",
    "    y=\"pca_component_2\",\n",
    "    hue=\"cluster\",\n",
    "    data=df_pca,\n",
    "    palette=\"tab10\",\n",
    ")\n",
    "plt.title(\"Distribution of Customers in Clusters using PCA\")\n",
    "plt.show()"
   ]
  },
  {
   "cell_type": "code",
   "execution_count": 20,
   "id": "0b77ed72-aca0-4f4a-99d9-54cfd8418770",
   "metadata": {},
   "outputs": [
    {
     "data": {
      "image/png": "[encoded data removed]",
      "text/plain": [
       "<Figure size 800x600 with 1 Axes>"
      ]
     },
     "metadata": {},
     "output_type": "display_data"
    }
   ],
   "source": [
    "from mpl_toolkits.mplot3d import Axes3D  # Import for 3D plotting\n",
    "\n",
    "pca = PCA(n_components=3)  \n",
    "pca.fit(df[['adr_rev_scaled', 'room_pax_scaled', 'L.O.S_scaled']])\n",
    "df_pca['pca_component_1'] = pca.transform(df_pca[['adr_rev_scaled', 'room_pax_scaled', 'L.O.S_scaled']])[:, 0]\n",
    "df_pca['pca_component_2'] = pca.transform(df_pca[['adr_rev_scaled', 'room_pax_scaled', 'L.O.S_scaled']])[:, 1]\n",
    "df_pca['pca_component_3'] = pca.transform(df_pca[['adr_rev_scaled', 'room_pax_scaled', 'L.O.S_scaled']])[:, 2]\n",
    "\n",
    "\n",
    "fig = plt.figure(figsize=(8, 6))\n",
    "ax = fig.add_subplot(111, projection='3d')\n",
    "\n",
    "\n",
    "ax.scatter(df_pca['pca_component_1'], df_pca['pca_component_2'], df_pca['pca_component_3'], c=df_pca['cluster'], cmap='tab10')\n",
    "\n",
    "# Customize plot elements\n",
    "ax.set_xlabel('PCA Component 1')\n",
    "ax.set_ylabel('PCA Component 2')\n",
    "ax.set_zlabel('PCA Component 3')\n",
    "ax.set_title('Distribution of Customers in Clusters using PCA (3D)')\n",
    "\n",
    "plt.show()"
   ]
  },
  {
   "cell_type": "markdown",
   "id": "4dcc934c-68b7-4a87-98f1-79867faf7db8",
   "metadata": {},
   "source": [
    "_____"
   ]
  },
  {
   "cell_type": "markdown",
   "id": "03061394-0a29-4e1b-a9f9-6091be44c073",
   "metadata": {},
   "source": [
    "# Forecasting"
   ]
  },
  {
   "cell_type": "markdown",
   "id": "1ae0a8d4-4015-4c5b-8e97-6fffd3296fe6",
   "metadata": {},
   "source": [
    "## XGBoost"
   ]
  },
  {
   "cell_type": "markdown",
   "id": "ab86ff19-e48b-454a-9713-3054273e1bfd",
   "metadata": {},
   "source": [
    "- Our target variable is \"is_canceled\".\n",
    "- We transform categorical variables into numerical variables using LabelEncoder.\n",
    "- We split the dataset into train/test sets.\n",
    "- We use GridSearch to find the best combination of parameters.\n",
    "- We train the model.\n",
    "- We evaluate the model (we can use accuracy_score(), recall_score(), and roc_auc_score()).\n",
    "- We adjust hyperparameters if the performance is not satisfactory (we can use GridSearch() or RandomizedSearchCV()).\n",
    "- Interpretation of the model using plot_importance()ance().rpretación del modelo `plot_importance()`\n",
    "9. "
   ]
  },
  {
   "cell_type": "code",
   "execution_count": 21,
   "id": "26fb4b54-0251-4b46-b634-d1e321009d98",
   "metadata": {},
   "outputs": [],
   "source": [
    "df_encoded = df.copy()"
   ]
  },
  {
   "cell_type": "code",
   "execution_count": 22,
   "id": "32ef5158-71bd-4701-9848-4a1599075eb4",
   "metadata": {},
   "outputs": [
    {
     "data": {
      "text/html": [
       "<div>\n",
       "<style scoped>\n",
       "    .dataframe tbody tr th:only-of-type {\n",
       "        vertical-align: middle;\n",
       "    }\n",
       "\n",
       "    .dataframe tbody tr th {\n",
       "        vertical-align: top;\n",
       "    }\n",
       "\n",
       "    .dataframe thead th {\n",
       "        text-align: right;\n",
       "    }\n",
       "</style>\n",
       "<table border=\"1\" class=\"dataframe\">\n",
       "  <thead>\n",
       "    <tr style=\"text-align: right;\">\n",
       "      <th></th>\n",
       "      <th>is_canceled</th>\n",
       "      <th>lead_time</th>\n",
       "      <th>arrival_date_year</th>\n",
       "      <th>arrival_date_month</th>\n",
       "      <th>arrival_date_day_of_month</th>\n",
       "      <th>stays_in_weekend_nights</th>\n",
       "      <th>stays_in_week_nights</th>\n",
       "      <th>adults</th>\n",
       "      <th>children</th>\n",
       "      <th>babies</th>\n",
       "      <th>...</th>\n",
       "      <th>L.O.S.</th>\n",
       "      <th>Generates_Rev</th>\n",
       "      <th>room_pax</th>\n",
       "      <th>adr_cat</th>\n",
       "      <th>Generates_Rev_bin</th>\n",
       "      <th>adr_rev</th>\n",
       "      <th>adr_rev_scaled</th>\n",
       "      <th>room_pax_scaled</th>\n",
       "      <th>L.O.S_scaled</th>\n",
       "      <th>cluster</th>\n",
       "    </tr>\n",
       "  </thead>\n",
       "  <tbody>\n",
       "    <tr>\n",
       "      <th>0</th>\n",
       "      <td>1</td>\n",
       "      <td>88</td>\n",
       "      <td>2015</td>\n",
       "      <td>7</td>\n",
       "      <td>1</td>\n",
       "      <td>0</td>\n",
       "      <td>4</td>\n",
       "      <td>2</td>\n",
       "      <td>0</td>\n",
       "      <td>0</td>\n",
       "      <td>...</td>\n",
       "      <td>4</td>\n",
       "      <td>0</td>\n",
       "      <td>2</td>\n",
       "      <td>Tipo2</td>\n",
       "      <td>0</td>\n",
       "      <td>0.0</td>\n",
       "      <td>-1.053379</td>\n",
       "      <td>-1.053379</td>\n",
       "      <td>0.077077</td>\n",
       "      <td>0</td>\n",
       "    </tr>\n",
       "    <tr>\n",
       "      <th>1</th>\n",
       "      <td>1</td>\n",
       "      <td>65</td>\n",
       "      <td>2015</td>\n",
       "      <td>7</td>\n",
       "      <td>1</td>\n",
       "      <td>0</td>\n",
       "      <td>4</td>\n",
       "      <td>1</td>\n",
       "      <td>0</td>\n",
       "      <td>0</td>\n",
       "      <td>...</td>\n",
       "      <td>4</td>\n",
       "      <td>0</td>\n",
       "      <td>1</td>\n",
       "      <td>Tipo2</td>\n",
       "      <td>0</td>\n",
       "      <td>0.0</td>\n",
       "      <td>-1.053379</td>\n",
       "      <td>-1.053379</td>\n",
       "      <td>-1.530931</td>\n",
       "      <td>0</td>\n",
       "    </tr>\n",
       "    <tr>\n",
       "      <th>2</th>\n",
       "      <td>1</td>\n",
       "      <td>92</td>\n",
       "      <td>2015</td>\n",
       "      <td>7</td>\n",
       "      <td>1</td>\n",
       "      <td>2</td>\n",
       "      <td>4</td>\n",
       "      <td>2</td>\n",
       "      <td>0</td>\n",
       "      <td>0</td>\n",
       "      <td>...</td>\n",
       "      <td>6</td>\n",
       "      <td>0</td>\n",
       "      <td>2</td>\n",
       "      <td>Tipo2</td>\n",
       "      <td>0</td>\n",
       "      <td>0.0</td>\n",
       "      <td>-1.053379</td>\n",
       "      <td>-1.053379</td>\n",
       "      <td>0.077077</td>\n",
       "      <td>0</td>\n",
       "    </tr>\n",
       "    <tr>\n",
       "      <th>3</th>\n",
       "      <td>1</td>\n",
       "      <td>100</td>\n",
       "      <td>2015</td>\n",
       "      <td>7</td>\n",
       "      <td>2</td>\n",
       "      <td>0</td>\n",
       "      <td>2</td>\n",
       "      <td>2</td>\n",
       "      <td>0</td>\n",
       "      <td>0</td>\n",
       "      <td>...</td>\n",
       "      <td>2</td>\n",
       "      <td>0</td>\n",
       "      <td>2</td>\n",
       "      <td>Tipo2</td>\n",
       "      <td>0</td>\n",
       "      <td>0.0</td>\n",
       "      <td>-1.053379</td>\n",
       "      <td>-1.053379</td>\n",
       "      <td>0.077077</td>\n",
       "      <td>0</td>\n",
       "    </tr>\n",
       "    <tr>\n",
       "      <th>4</th>\n",
       "      <td>1</td>\n",
       "      <td>79</td>\n",
       "      <td>2015</td>\n",
       "      <td>7</td>\n",
       "      <td>2</td>\n",
       "      <td>0</td>\n",
       "      <td>3</td>\n",
       "      <td>2</td>\n",
       "      <td>0</td>\n",
       "      <td>0</td>\n",
       "      <td>...</td>\n",
       "      <td>3</td>\n",
       "      <td>0</td>\n",
       "      <td>2</td>\n",
       "      <td>Tipo2</td>\n",
       "      <td>0</td>\n",
       "      <td>0.0</td>\n",
       "      <td>-1.053379</td>\n",
       "      <td>-1.053379</td>\n",
       "      <td>0.077077</td>\n",
       "      <td>0</td>\n",
       "    </tr>\n",
       "  </tbody>\n",
       "</table>\n",
       "<p>5 rows × 37 columns</p>\n",
       "</div>"
      ],
      "text/plain": [
       "   is_canceled  lead_time  arrival_date_year  arrival_date_month  \\\n",
       "0            1         88               2015                   7   \n",
       "1            1         65               2015                   7   \n",
       "2            1         92               2015                   7   \n",
       "3            1        100               2015                   7   \n",
       "4            1         79               2015                   7   \n",
       "\n",
       "   arrival_date_day_of_month  stays_in_weekend_nights  stays_in_week_nights  \\\n",
       "0                          1                        0                     4   \n",
       "1                          1                        0                     4   \n",
       "2                          1                        2                     4   \n",
       "3                          2                        0                     2   \n",
       "4                          2                        0                     3   \n",
       "\n",
       "   adults  children  babies  ... L.O.S. Generates_Rev room_pax adr_cat  \\\n",
       "0       2         0       0  ...      4             0        2   Tipo2   \n",
       "1       1         0       0  ...      4             0        1   Tipo2   \n",
       "2       2         0       0  ...      6             0        2   Tipo2   \n",
       "3       2         0       0  ...      2             0        2   Tipo2   \n",
       "4       2         0       0  ...      3             0        2   Tipo2   \n",
       "\n",
       "   Generates_Rev_bin  adr_rev  adr_rev_scaled room_pax_scaled L.O.S_scaled  \\\n",
       "0                  0      0.0       -1.053379       -1.053379     0.077077   \n",
       "1                  0      0.0       -1.053379       -1.053379    -1.530931   \n",
       "2                  0      0.0       -1.053379       -1.053379     0.077077   \n",
       "3                  0      0.0       -1.053379       -1.053379     0.077077   \n",
       "4                  0      0.0       -1.053379       -1.053379     0.077077   \n",
       "\n",
       "   cluster  \n",
       "0        0  \n",
       "1        0  \n",
       "2        0  \n",
       "3        0  \n",
       "4        0  \n",
       "\n",
       "[5 rows x 37 columns]"
      ]
     },
     "execution_count": 22,
     "metadata": {},
     "output_type": "execute_result"
    }
   ],
   "source": [
    "df_encoded.head()"
   ]
  },
  {
   "cell_type": "code",
   "execution_count": 23,
   "id": "4d81ffdd-787a-49b6-a68a-7a7052ba7be5",
   "metadata": {},
   "outputs": [
    {
     "data": {
      "text/plain": [
       "Index(['is_canceled', 'lead_time', 'arrival_date_year', 'arrival_date_month',\n",
       "       'arrival_date_day_of_month', 'stays_in_weekend_nights',\n",
       "       'stays_in_week_nights', 'adults', 'children', 'babies', 'meal',\n",
       "       'country', 'market_segment', 'distribution_channel',\n",
       "       'is_repeated_guest', 'previous_cancellations',\n",
       "       'previous_bookings_not_canceled', 'reserved_room_type',\n",
       "       'assigned_room_type', 'booking_changes', 'deposit_type',\n",
       "       'customer_type', 'adr', 'required_car_parking_spaces',\n",
       "       'total_of_special_requests', 'reservation_status', 'arrival_date',\n",
       "       'L.O.S.', 'Generates_Rev', 'room_pax', 'adr_cat', 'Generates_Rev_bin',\n",
       "       'adr_rev', 'adr_rev_scaled', 'room_pax_scaled', 'L.O.S_scaled',\n",
       "       'cluster'],\n",
       "      dtype='object')"
      ]
     },
     "execution_count": 23,
     "metadata": {},
     "output_type": "execute_result"
    }
   ],
   "source": [
    "df_encoded.columns"
   ]
  },
  {
   "cell_type": "code",
   "execution_count": 24,
   "id": "a81882db-1025-4534-8441-c5047a2433e0",
   "metadata": {},
   "outputs": [
    {
     "name": "stdout",
     "output_type": "stream",
     "text": [
      "<class 'pandas.core.frame.DataFrame'>\n",
      "RangeIndex: 77858 entries, 0 to 77857\n",
      "Data columns (total 37 columns):\n",
      " #   Column                          Non-Null Count  Dtype  \n",
      "---  ------                          --------------  -----  \n",
      " 0   is_canceled                     77858 non-null  int64  \n",
      " 1   lead_time                       77858 non-null  int64  \n",
      " 2   arrival_date_year               77858 non-null  int64  \n",
      " 3   arrival_date_month              77858 non-null  int64  \n",
      " 4   arrival_date_day_of_month       77858 non-null  int64  \n",
      " 5   stays_in_weekend_nights         77858 non-null  int64  \n",
      " 6   stays_in_week_nights            77858 non-null  int64  \n",
      " 7   adults                          77858 non-null  int64  \n",
      " 8   children                        77858 non-null  int64  \n",
      " 9   babies                          77858 non-null  int64  \n",
      " 10  meal                            77858 non-null  object \n",
      " 11  country                         77858 non-null  object \n",
      " 12  market_segment                  77858 non-null  object \n",
      " 13  distribution_channel            77858 non-null  object \n",
      " 14  is_repeated_guest               77858 non-null  int64  \n",
      " 15  previous_cancellations          77858 non-null  int64  \n",
      " 16  previous_bookings_not_canceled  77858 non-null  int64  \n",
      " 17  reserved_room_type              77858 non-null  object \n",
      " 18  assigned_room_type              77858 non-null  object \n",
      " 19  booking_changes                 77858 non-null  int64  \n",
      " 20  deposit_type                    77858 non-null  object \n",
      " 21  customer_type                   77858 non-null  object \n",
      " 22  adr                             77858 non-null  float64\n",
      " 23  required_car_parking_spaces     77858 non-null  int64  \n",
      " 24  total_of_special_requests       77858 non-null  int64  \n",
      " 25  reservation_status              77858 non-null  object \n",
      " 26  arrival_date                    77858 non-null  object \n",
      " 27  L.O.S.                          77858 non-null  int64  \n",
      " 28  Generates_Rev                   77858 non-null  int64  \n",
      " 29  room_pax                        77858 non-null  int64  \n",
      " 30  adr_cat                         77858 non-null  object \n",
      " 31  Generates_Rev_bin               77858 non-null  int32  \n",
      " 32  adr_rev                         77858 non-null  float64\n",
      " 33  adr_rev_scaled                  77858 non-null  float64\n",
      " 34  room_pax_scaled                 77858 non-null  float64\n",
      " 35  L.O.S_scaled                    77858 non-null  float64\n",
      " 36  cluster                         77858 non-null  int32  \n",
      "dtypes: float64(5), int32(2), int64(19), object(11)\n",
      "memory usage: 21.4+ MB\n"
     ]
    }
   ],
   "source": [
    "df_encoded.info()"
   ]
  },
  {
   "cell_type": "code",
   "execution_count": 25,
   "id": "ba9dde37-53fb-443e-a3f1-27e8b95bee81",
   "metadata": {},
   "outputs": [
    {
     "data": {
      "text/plain": [
       "0        No Deposit\n",
       "1        No Deposit\n",
       "2        No Deposit\n",
       "3        No Deposit\n",
       "4        No Deposit\n",
       "            ...    \n",
       "77853    No Deposit\n",
       "77854    No Deposit\n",
       "77855    No Deposit\n",
       "77856    No Deposit\n",
       "77857    No Deposit\n",
       "Name: deposit_type, Length: 77858, dtype: object"
      ]
     },
     "execution_count": 25,
     "metadata": {},
     "output_type": "execute_result"
    }
   ],
   "source": [
    "df_encoded.deposit_type"
   ]
  },
  {
   "cell_type": "code",
   "execution_count": 26,
   "id": "c047277b-ce26-44a7-8605-c4efee9f75f3",
   "metadata": {},
   "outputs": [],
   "source": [
    "# Convert the object variables using Label Encoding\n",
    "label_encoder = LabelEncoder()\n",
    "object_cols = df_encoded.select_dtypes(include=['object']).columns\n",
    "for col in object_cols:\n",
    "    df_encoded[col] = label_encoder.fit_transform(df_encoded[col])"
   ]
  },
  {
   "cell_type": "code",
   "execution_count": 27,
   "id": "01615be9-2122-403b-93ee-6aadf4e071c4",
   "metadata": {},
   "outputs": [],
   "source": [
    "# Tengo que quedarme con el subdf de las no canceladas\n",
    "# Desordeno aleatoriamente\n",
    "# Me quedo con las priemras 30K filas (igualando el numero de muestra de si canceladas)\n",
    "# Uno en df de las canceladas con las no canceladas, quedando un df con paridad entre canceladas y no canceladas"
   ]
  },
  {
   "cell_type": "code",
   "execution_count": 28,
   "id": "253b3e2e-f958-43a6-9b73-e8318224aebd",
   "metadata": {},
   "outputs": [
    {
     "data": {
      "text/plain": [
       "(44981, 37)"
      ]
     },
     "execution_count": 28,
     "metadata": {},
     "output_type": "execute_result"
    }
   ],
   "source": [
    "df_not_canceled = df_encoded[df_encoded['is_canceled'] == 0]\n",
    "df_not_canceled.shape"
   ]
  },
  {
   "cell_type": "code",
   "execution_count": 29,
   "id": "97c14df6-3d01-4397-a458-d24b9c984fc8",
   "metadata": {},
   "outputs": [
    {
     "data": {
      "text/plain": [
       "(32877, 37)"
      ]
     },
     "execution_count": 29,
     "metadata": {},
     "output_type": "execute_result"
    }
   ],
   "source": [
    "df_canceled = df_encoded[df_encoded['is_canceled'] == 1]\n",
    "df_canceled.shape"
   ]
  },
  {
   "cell_type": "code",
   "execution_count": 30,
   "id": "c1f336dd-5388-48bd-9aa2-148204ee9d4e",
   "metadata": {},
   "outputs": [],
   "source": [
    "# Number of rows to be removed to balance the samples for training the dataframe\n",
    "num_rows_to_drop = df_not_canceled.shape[0] - df_canceled.shape[0] \n",
    "# Drop rows\n",
    "rows_to_drop = df_not_canceled.sample(n=num_rows_to_drop, random_state=42)"
   ]
  },
  {
   "cell_type": "code",
   "execution_count": 31,
   "id": "325610ff-a8a3-4457-8103-3ec867d50462",
   "metadata": {},
   "outputs": [],
   "source": [
    "df_not_canceled = df_not_canceled.drop(rows_to_drop.index)"
   ]
  },
  {
   "cell_type": "code",
   "execution_count": 32,
   "id": "476fa273-8e1e-4d3d-a22c-39ae3813b31f",
   "metadata": {},
   "outputs": [
    {
     "name": "stdout",
     "output_type": "stream",
     "text": [
      "df_not_canceled.shape (32877, 37)\n",
      "df_canceled.shape (32877, 37)\n"
     ]
    }
   ],
   "source": [
    "print(\"df_not_canceled.shape\", df_not_canceled.shape)\n",
    "print(\"df_canceled.shape\",df_canceled.shape)"
   ]
  },
  {
   "cell_type": "code",
   "execution_count": 33,
   "id": "42adc98c-7814-4c64-8734-4464512f2456",
   "metadata": {},
   "outputs": [],
   "source": [
    "# concatenate the two dataframes that we will use to train the model and shuffle the rows\n",
    "\n",
    "df_model = pd.concat([df_not_canceled, df_canceled]).drop(['reservation_status'], axis = 1)\n",
    "df_model = df_model.sample(frac=1, random_state=42) #sample() con frac = 1 selects a fraction equal to 100% of the dataframe"
   ]
  },
  {
   "cell_type": "code",
   "execution_count": 34,
   "id": "e2914b6c-38e6-4091-aa12-d36c860ef6da",
   "metadata": {},
   "outputs": [],
   "source": [
    "#Once we have the balanced dataframe, we proceed to declare training variables and split it into train and test sets."
   ]
  },
  {
   "cell_type": "code",
   "execution_count": 35,
   "id": "d2eecb6d-b532-4cb1-adcc-e1f32315ac8c",
   "metadata": {},
   "outputs": [],
   "source": [
    "X = df_model.drop(['is_canceled'], axis=1)\n",
    "y = df_model['is_canceled']  \n",
    "X_train, X_test, y_train, y_test = train_test_split(X, y, test_size=0.25, random_state=42)"
   ]
  },
  {
   "cell_type": "code",
   "execution_count": 36,
   "id": "a30cb1c0-c0a0-4c43-9954-f36a680325ec",
   "metadata": {},
   "outputs": [
    {
     "name": "stdout",
     "output_type": "stream",
     "text": [
      "(49315, 35)\n",
      "(49315,)\n",
      "(16439, 35)\n",
      "(16439,)\n"
     ]
    }
   ],
   "source": [
    "print(X_train.shape)\n",
    "print(y_train.shape)\n",
    "print(X_test.shape)\n",
    "print(y_test.shape)"
   ]
  },
  {
   "cell_type": "code",
   "execution_count": 37,
   "id": "0f0d69c0-141c-401e-9abe-280fb46045de",
   "metadata": {},
   "outputs": [],
   "source": [
    "# Define XGBoost model\n",
    "model_xgb = xgb.XGBClassifier(objective='binary:logistic')"
   ]
  },
  {
   "cell_type": "code",
   "execution_count": 38,
   "id": "e3ff9bcb-2424-4ba0-8d1f-078035e4ac71",
   "metadata": {},
   "outputs": [],
   "source": [
    "param_grid = {\n",
    "    'n_estimators': [50, 100, 200],\n",
    "    'max_depth': [3, 5, 7],\n",
    "    'learning_rate': [0.1, 0.05, 0.01],\n",
    "    'gamma': [0, 1, 5],\n",
    "    'reg_lambda': [0.1, 1, 10],\n",
    "}"
   ]
  },
  {
   "cell_type": "code",
   "execution_count": 39,
   "id": "5be883b9-c0e3-432b-9c4f-0df608cfe721",
   "metadata": {},
   "outputs": [],
   "source": [
    "grid_search = GridSearchCV(estimator=model_xgb, \n",
    "                          param_grid=param_grid, \n",
    "                          scoring='accuracy',\n",
    "                           error_score='raise',\n",
    "                          cv=5,\n",
    "                          n_jobs=-1)"
   ]
  },
  {
   "cell_type": "code",
   "execution_count": 40,
   "id": "b7cb5e50-285b-49d0-ade6-03b74fb1f797",
   "metadata": {},
   "outputs": [
    {
     "data": {
      "text/html": [
       "<style>#sk-container-id-2 {color: black;}#sk-container-id-2 pre{padding: 0;}#sk-container-id-2 div.sk-toggleable {background-color: white;}#sk-container-id-2 label.sk-toggleable__label {cursor: pointer;display: block;width: 100%;margin-bottom: 0;padding: 0.3em;box-sizing: border-box;text-align: center;}#sk-container-id-2 label.sk-toggleable__label-arrow:before {content: \"▸\";float: left;margin-right: 0.25em;color: #696969;}#sk-container-id-2 label.sk-toggleable__label-arrow:hover:before {color: black;}#sk-container-id-2 div.sk-estimator:hover label.sk-toggleable__label-arrow:before {color: black;}#sk-container-id-2 div.sk-toggleable__content {max-height: 0;max-width: 0;overflow: hidden;text-align: left;background-color: #f0f8ff;}#sk-container-id-2 div.sk-toggleable__content pre {margin: 0.2em;color: black;border-radius: 0.25em;background-color: #f0f8ff;}#sk-container-id-2 input.sk-toggleable__control:checked~div.sk-toggleable__content {max-height: 200px;max-width: 100%;overflow: auto;}#sk-container-id-2 input.sk-toggleable__control:checked~label.sk-toggleable__label-arrow:before {content: \"▾\";}#sk-container-id-2 div.sk-estimator input.sk-toggleable__control:checked~label.sk-toggleable__label {background-color: #d4ebff;}#sk-container-id-2 div.sk-label input.sk-toggleable__control:checked~label.sk-toggleable__label {background-color: #d4ebff;}#sk-container-id-2 input.sk-hidden--visually {border: 0;clip: rect(1px 1px 1px 1px);clip: rect(1px, 1px, 1px, 1px);height: 1px;margin: -1px;overflow: hidden;padding: 0;position: absolute;width: 1px;}#sk-container-id-2 div.sk-estimator {font-family: monospace;background-color: #f0f8ff;border: 1px dotted black;border-radius: 0.25em;box-sizing: border-box;margin-bottom: 0.5em;}#sk-container-id-2 div.sk-estimator:hover {background-color: #d4ebff;}#sk-container-id-2 div.sk-parallel-item::after {content: \"\";width: 100%;border-bottom: 1px solid gray;flex-grow: 1;}#sk-container-id-2 div.sk-label:hover label.sk-toggleable__label {background-color: #d4ebff;}#sk-container-id-2 div.sk-serial::before {content: \"\";position: absolute;border-left: 1px solid gray;box-sizing: border-box;top: 0;bottom: 0;left: 50%;z-index: 0;}#sk-container-id-2 div.sk-serial {display: flex;flex-direction: column;align-items: center;background-color: white;padding-right: 0.2em;padding-left: 0.2em;position: relative;}#sk-container-id-2 div.sk-item {position: relative;z-index: 1;}#sk-container-id-2 div.sk-parallel {display: flex;align-items: stretch;justify-content: center;background-color: white;position: relative;}#sk-container-id-2 div.sk-item::before, #sk-container-id-2 div.sk-parallel-item::before {content: \"\";position: absolute;border-left: 1px solid gray;box-sizing: border-box;top: 0;bottom: 0;left: 50%;z-index: -1;}#sk-container-id-2 div.sk-parallel-item {display: flex;flex-direction: column;z-index: 1;position: relative;background-color: white;}#sk-container-id-2 div.sk-parallel-item:first-child::after {align-self: flex-end;width: 50%;}#sk-container-id-2 div.sk-parallel-item:last-child::after {align-self: flex-start;width: 50%;}#sk-container-id-2 div.sk-parallel-item:only-child::after {width: 0;}#sk-container-id-2 div.sk-dashed-wrapped {border: 1px dashed gray;margin: 0 0.4em 0.5em 0.4em;box-sizing: border-box;padding-bottom: 0.4em;background-color: white;}#sk-container-id-2 div.sk-label label {font-family: monospace;font-weight: bold;display: inline-block;line-height: 1.2em;}#sk-container-id-2 div.sk-label-container {text-align: center;}#sk-container-id-2 div.sk-container {/* jupyter's `normalize.less` sets `[hidden] { display: none; }` but bootstrap.min.css set `[hidden] { display: none !important; }` so we also need the `!important` here to be able to override the default hidden behavior on the sphinx rendered scikit-learn.org. See: https://github.com/scikit-learn/scikit-learn/issues/21755 */display: inline-block !important;position: relative;}#sk-container-id-2 div.sk-text-repr-fallback {display: none;}</style><div id=\"sk-container-id-2\" class=\"sk-top-container\"><div class=\"sk-text-repr-fallback\"><pre>GridSearchCV(cv=5, error_score=&#x27;raise&#x27;,\n",
       "             estimator=XGBClassifier(base_score=None, booster=None,\n",
       "                                     callbacks=None, colsample_bylevel=None,\n",
       "                                     colsample_bynode=None,\n",
       "                                     colsample_bytree=None, device=None,\n",
       "                                     early_stopping_rounds=None,\n",
       "                                     enable_categorical=False, eval_metric=None,\n",
       "                                     feature_types=None, gamma=None,\n",
       "                                     grow_policy=None, importance_type=None,\n",
       "                                     interaction_constraints=None...\n",
       "                                     max_delta_step=None, max_depth=None,\n",
       "                                     max_leaves=None, min_child_weight=None,\n",
       "                                     missing=nan, monotone_constraints=None,\n",
       "                                     multi_strategy=None, n_estimators=None,\n",
       "                                     n_jobs=None, num_parallel_tree=None,\n",
       "                                     random_state=None, ...),\n",
       "             n_jobs=-1,\n",
       "             param_grid={&#x27;gamma&#x27;: [0, 1, 5], &#x27;learning_rate&#x27;: [0.1, 0.05, 0.01],\n",
       "                         &#x27;max_depth&#x27;: [3, 5, 7], &#x27;n_estimators&#x27;: [50, 100, 200],\n",
       "                         &#x27;reg_lambda&#x27;: [0.1, 1, 10]},\n",
       "             scoring=&#x27;accuracy&#x27;)</pre><b>In a Jupyter environment, please rerun this cell to show the HTML representation or trust the notebook. <br />On GitHub, the HTML representation is unable to render, please try loading this page with nbviewer.org.</b></div><div class=\"sk-container\" hidden><div class=\"sk-item sk-dashed-wrapped\"><div class=\"sk-label-container\"><div class=\"sk-label sk-toggleable\"><input class=\"sk-toggleable__control sk-hidden--visually\" id=\"sk-estimator-id-2\" type=\"checkbox\" ><label for=\"sk-estimator-id-2\" class=\"sk-toggleable__label sk-toggleable__label-arrow\">GridSearchCV</label><div class=\"sk-toggleable__content\"><pre>GridSearchCV(cv=5, error_score=&#x27;raise&#x27;,\n",
       "             estimator=XGBClassifier(base_score=None, booster=None,\n",
       "                                     callbacks=None, colsample_bylevel=None,\n",
       "                                     colsample_bynode=None,\n",
       "                                     colsample_bytree=None, device=None,\n",
       "                                     early_stopping_rounds=None,\n",
       "                                     enable_categorical=False, eval_metric=None,\n",
       "                                     feature_types=None, gamma=None,\n",
       "                                     grow_policy=None, importance_type=None,\n",
       "                                     interaction_constraints=None...\n",
       "                                     max_delta_step=None, max_depth=None,\n",
       "                                     max_leaves=None, min_child_weight=None,\n",
       "                                     missing=nan, monotone_constraints=None,\n",
       "                                     multi_strategy=None, n_estimators=None,\n",
       "                                     n_jobs=None, num_parallel_tree=None,\n",
       "                                     random_state=None, ...),\n",
       "             n_jobs=-1,\n",
       "             param_grid={&#x27;gamma&#x27;: [0, 1, 5], &#x27;learning_rate&#x27;: [0.1, 0.05, 0.01],\n",
       "                         &#x27;max_depth&#x27;: [3, 5, 7], &#x27;n_estimators&#x27;: [50, 100, 200],\n",
       "                         &#x27;reg_lambda&#x27;: [0.1, 1, 10]},\n",
       "             scoring=&#x27;accuracy&#x27;)</pre></div></div></div><div class=\"sk-parallel\"><div class=\"sk-parallel-item\"><div class=\"sk-item\"><div class=\"sk-label-container\"><div class=\"sk-label sk-toggleable\"><input class=\"sk-toggleable__control sk-hidden--visually\" id=\"sk-estimator-id-3\" type=\"checkbox\" ><label for=\"sk-estimator-id-3\" class=\"sk-toggleable__label sk-toggleable__label-arrow\">estimator: XGBClassifier</label><div class=\"sk-toggleable__content\"><pre>XGBClassifier(base_score=None, booster=None, callbacks=None,\n",
       "              colsample_bylevel=None, colsample_bynode=None,\n",
       "              colsample_bytree=None, device=None, early_stopping_rounds=None,\n",
       "              enable_categorical=False, eval_metric=None, feature_types=None,\n",
       "              gamma=None, grow_policy=None, importance_type=None,\n",
       "              interaction_constraints=None, learning_rate=None, max_bin=None,\n",
       "              max_cat_threshold=None, max_cat_to_onehot=None,\n",
       "              max_delta_step=None, max_depth=None, max_leaves=None,\n",
       "              min_child_weight=None, missing=nan, monotone_constraints=None,\n",
       "              multi_strategy=None, n_estimators=None, n_jobs=None,\n",
       "              num_parallel_tree=None, random_state=None, ...)</pre></div></div></div><div class=\"sk-serial\"><div class=\"sk-item\"><div class=\"sk-estimator sk-toggleable\"><input class=\"sk-toggleable__control sk-hidden--visually\" id=\"sk-estimator-id-4\" type=\"checkbox\" ><label for=\"sk-estimator-id-4\" class=\"sk-toggleable__label sk-toggleable__label-arrow\">XGBClassifier</label><div class=\"sk-toggleable__content\"><pre>XGBClassifier(base_score=None, booster=None, callbacks=None,\n",
       "              colsample_bylevel=None, colsample_bynode=None,\n",
       "              colsample_bytree=None, device=None, early_stopping_rounds=None,\n",
       "              enable_categorical=False, eval_metric=None, feature_types=None,\n",
       "              gamma=None, grow_policy=None, importance_type=None,\n",
       "              interaction_constraints=None, learning_rate=None, max_bin=None,\n",
       "              max_cat_threshold=None, max_cat_to_onehot=None,\n",
       "              max_delta_step=None, max_depth=None, max_leaves=None,\n",
       "              min_child_weight=None, missing=nan, monotone_constraints=None,\n",
       "              multi_strategy=None, n_estimators=None, n_jobs=None,\n",
       "              num_parallel_tree=None, random_state=None, ...)</pre></div></div></div></div></div></div></div></div></div></div>"
      ],
      "text/plain": [
       "GridSearchCV(cv=5, error_score='raise',\n",
       "             estimator=XGBClassifier(base_score=None, booster=None,\n",
       "                                     callbacks=None, colsample_bylevel=None,\n",
       "                                     colsample_bynode=None,\n",
       "                                     colsample_bytree=None, device=None,\n",
       "                                     early_stopping_rounds=None,\n",
       "                                     enable_categorical=False, eval_metric=None,\n",
       "                                     feature_types=None, gamma=None,\n",
       "                                     grow_policy=None, importance_type=None,\n",
       "                                     interaction_constraints=None...\n",
       "                                     max_delta_step=None, max_depth=None,\n",
       "                                     max_leaves=None, min_child_weight=None,\n",
       "                                     missing=nan, monotone_constraints=None,\n",
       "                                     multi_strategy=None, n_estimators=None,\n",
       "                                     n_jobs=None, num_parallel_tree=None,\n",
       "                                     random_state=None, ...),\n",
       "             n_jobs=-1,\n",
       "             param_grid={'gamma': [0, 1, 5], 'learning_rate': [0.1, 0.05, 0.01],\n",
       "                         'max_depth': [3, 5, 7], 'n_estimators': [50, 100, 200],\n",
       "                         'reg_lambda': [0.1, 1, 10]},\n",
       "             scoring='accuracy')"
      ]
     },
     "execution_count": 40,
     "metadata": {},
     "output_type": "execute_result"
    }
   ],
   "source": [
    "grid_search.fit(X_train, y_train)"
   ]
  },
  {
   "cell_type": "code",
   "execution_count": 41,
   "id": "ea87b59d-dac1-44d1-bee4-689c62d1d8ab",
   "metadata": {},
   "outputs": [],
   "source": [
    "# determine which model and parameters are best using GridSearch\n",
    "mejor_modelo = grid_search.best_estimator_\n",
    "mejores_parametros = grid_search.best_params_"
   ]
  },
  {
   "cell_type": "code",
   "execution_count": 42,
   "id": "83e1cbbf-746c-410e-ba65-74fcb6cd5cc7",
   "metadata": {},
   "outputs": [
    {
     "data": {
      "text/plain": [
       "{'gamma': 0,\n",
       " 'learning_rate': 0.1,\n",
       " 'max_depth': 7,\n",
       " 'n_estimators': 200,\n",
       " 'reg_lambda': 0.1}"
      ]
     },
     "execution_count": 42,
     "metadata": {},
     "output_type": "execute_result"
    }
   ],
   "source": [
    "mejores_parametros"
   ]
  },
  {
   "cell_type": "code",
   "execution_count": 43,
   "id": "a5be8b49-a488-42f7-9646-063752ec3d96",
   "metadata": {},
   "outputs": [
    {
     "data": {
      "text/plain": [
       "(16439,)"
      ]
     },
     "execution_count": 43,
     "metadata": {},
     "output_type": "execute_result"
    }
   ],
   "source": [
    "y_pred = mejor_modelo.predict(X_test)\n",
    "y_pred.shape"
   ]
  },
  {
   "cell_type": "code",
   "execution_count": 44,
   "id": "09ce71ae-6c45-4f85-983d-917d6c3869c9",
   "metadata": {},
   "outputs": [
    {
     "name": "stdout",
     "output_type": "stream",
     "text": [
      "X_train:  (49315, 35)\n",
      "y_train:  (49315,)\n",
      "y_test:  (16439,)\n",
      "y_pred:  (16439,)\n"
     ]
    }
   ],
   "source": [
    "print(\"X_train: \", X_train.shape)\n",
    "print(\"y_train: \", y_train.shape)\n",
    "print(\"y_test: \" ,y_test.shape)\n",
    "print(\"y_pred: \",y_pred.shape)"
   ]
  },
  {
   "cell_type": "code",
   "execution_count": 45,
   "id": "cfa0b2b7-7dd1-46a4-9f3b-1542edf54ef9",
   "metadata": {},
   "outputs": [
    {
     "name": "stdout",
     "output_type": "stream",
     "text": [
      "Precisión: 0.989050428858203\n",
      "Recall: 0.9794603791929996\n",
      "AUC-ROC: 0.9890603564458483\n"
     ]
    }
   ],
   "source": [
    "accuracy = accuracy_score(y_test, y_pred)\n",
    "recall = recall_score(y_test, y_pred)\n",
    "auc = roc_auc_score(y_test, y_pred)\n",
    "\n",
    "print(\"Precisión:\", accuracy)\n",
    "print(\"Recall:\", recall) # Measure the proportion of actual positive instances that the model correctly identifies\n",
    "print(\"AUC-ROC:\", auc)"
   ]
  },
  {
   "cell_type": "code",
   "execution_count": 46,
   "id": "5f5161a5-5283-4e81-8a48-6b24e91fd57e",
   "metadata": {},
   "outputs": [],
   "source": [
    "# The values provided by our model are very good; we proceed to verify the effectiveness of the model"
   ]
  },
  {
   "cell_type": "markdown",
   "id": "b4a7ecea-499c-47ce-8106-569f5bee5dd4",
   "metadata": {},
   "source": [
    "#### VERIFY THE EFFECTIVENESS OF THE MODEL"
   ]
  },
  {
   "cell_type": "code",
   "execution_count": 47,
   "id": "d06cfdaf-145a-4853-aea4-06bbc0263fe9",
   "metadata": {},
   "outputs": [],
   "source": [
    "# Check the model with the sample of 100 rows named `test_not_cancel_1`.\n",
    "test_not_cancel_1 = df_not_canceled.sample(n=100)\n",
    "X_sample = test_not_cancel_1.drop(['is_canceled', 'reservation_status'], axis=1)  #\n",
    "y_sample = test_not_cancel_1['is_canceled']  "
   ]
  },
  {
   "cell_type": "code",
   "execution_count": 48,
   "id": "d0148a27-3e05-414b-9198-c75ea730c229",
   "metadata": {},
   "outputs": [
    {
     "data": {
      "text/plain": [
       "array([0, 0, 0, 0, 0, 0, 0, 0, 0, 0, 0, 0, 0, 0, 0, 0, 0, 0, 0, 0, 0, 0,\n",
       "       0, 0, 0, 0, 0, 0, 0, 0, 0, 0, 0, 0, 0, 0, 0, 0, 0, 0, 0, 0, 0, 0,\n",
       "       0, 0, 0, 0, 0, 0, 0, 0, 0, 0, 0, 0, 0, 0, 0, 0, 0, 0, 0, 0, 0, 0,\n",
       "       0, 0, 0, 0, 0, 0, 0, 0, 0, 0, 0, 0, 0, 0, 0, 0, 0, 0, 0, 0, 0, 0,\n",
       "       0, 0, 0, 0, 0, 0, 0, 0, 0, 0, 0, 0])"
      ]
     },
     "execution_count": 48,
     "metadata": {},
     "output_type": "execute_result"
    }
   ],
   "source": [
    "# Make predictions on the sample.\n",
    "y_sample_pred = mejor_modelo.predict(X_sample)\n",
    "y_sample_pred"
   ]
  },
  {
   "cell_type": "code",
   "execution_count": 49,
   "id": "7e59f8e8-9275-4dc9-81f6-521799157c0f",
   "metadata": {},
   "outputs": [
    {
     "name": "stdout",
     "output_type": "stream",
     "text": [
      "Accuracy on sample: 1.0\n",
      "Recall on sample: 0.0\n"
     ]
    }
   ],
   "source": [
    "# Calculate the metrics on the sample\n",
    "accuracy_sample = accuracy_score(y_sample, y_sample_pred)\n",
    "recall_sample = recall_score(y_sample, y_sample_pred)\n",
    "\n",
    "\n",
    "print(f\"Accuracy on sample: {accuracy_sample}\")\n",
    "print(f\"Recall on sample: {recall_sample}\")\n"
   ]
  },
  {
   "cell_type": "code",
   "execution_count": 50,
   "id": "30fbca8b-918e-4057-a6ee-8a2dcff3d168",
   "metadata": {},
   "outputs": [],
   "source": [
    "# Check the model with the sample of 100 rows named test_not_cancel_1.\n",
    "test_not_cancel_1 = df_canceled.sample(n=100)\n",
    "X_sample = test_not_cancel_1.drop(['is_canceled', 'reservation_status'], axis=1)  #\n",
    "y_sample = test_not_cancel_1['is_canceled']  "
   ]
  },
  {
   "cell_type": "code",
   "execution_count": 51,
   "id": "40f07606-dd3d-445a-8168-ef82682561ac",
   "metadata": {},
   "outputs": [
    {
     "data": {
      "text/plain": [
       "array([1, 1, 1, 1, 1, 1, 1, 1, 1, 1, 1, 1, 1, 1, 1, 1, 1, 1, 1, 1, 1, 1,\n",
       "       1, 1, 1, 1, 1, 1, 1, 1, 1, 1, 1, 1, 1, 1, 1, 1, 1, 1, 1, 1, 1, 1,\n",
       "       1, 1, 1, 1, 1, 1, 1, 1, 1, 1, 1, 1, 1, 1, 1, 1, 1, 1, 1, 1, 1, 1,\n",
       "       1, 1, 1, 1, 1, 1, 1, 1, 1, 1, 1, 1, 1, 1, 1, 1, 1, 1, 1, 1, 1, 1,\n",
       "       1, 1, 1, 1, 1, 1, 1, 1, 1, 1, 1, 1])"
      ]
     },
     "execution_count": 51,
     "metadata": {},
     "output_type": "execute_result"
    }
   ],
   "source": [
    "# Make predictions on the sample\n",
    "y_sample_pred = mejor_modelo.predict(X_sample)\n",
    "y_sample_pred"
   ]
  },
  {
   "cell_type": "code",
   "execution_count": 52,
   "id": "1089a16f-6537-4ad5-8841-7ad60b187f5e",
   "metadata": {},
   "outputs": [
    {
     "name": "stdout",
     "output_type": "stream",
     "text": [
      "Accuracy on sample: 1.0\n",
      "Recall on sample: 1.0\n"
     ]
    }
   ],
   "source": [
    "# Calculate the metrics on the sample\n",
    "accuracy_sample = accuracy_score(y_sample, y_sample_pred)\n",
    "recall_sample = recall_score(y_sample, y_sample_pred)\n",
    "\n",
    "\n",
    "print(f\"Accuracy on sample: {accuracy_sample}\")\n",
    "print(f\"Recall on sample: {recall_sample}\")"
   ]
  },
  {
   "cell_type": "code",
   "execution_count": 53,
   "id": "f3d46f48-8031-4959-bb37-b0010c176d68",
   "metadata": {},
   "outputs": [],
   "source": [
    "df_ = df.copy()"
   ]
  },
  {
   "cell_type": "code",
   "execution_count": 54,
   "id": "6dbba63f-28da-407c-9add-e466279bd978",
   "metadata": {},
   "outputs": [],
   "source": [
    "df_ = df_[['arrival_date_year', 'arrival_date_month',\n",
    "       'arrival_date_day_of_month','adults','children','L.O.S.', 'adr','is_canceled']]"
   ]
  },
  {
   "cell_type": "code",
   "execution_count": 55,
   "id": "7ac715d3-ba99-4811-8db9-a499a1836f0a",
   "metadata": {},
   "outputs": [
    {
     "data": {
      "text/html": [
       "<div>\n",
       "<style scoped>\n",
       "    .dataframe tbody tr th:only-of-type {\n",
       "        vertical-align: middle;\n",
       "    }\n",
       "\n",
       "    .dataframe tbody tr th {\n",
       "        vertical-align: top;\n",
       "    }\n",
       "\n",
       "    .dataframe thead th {\n",
       "        text-align: right;\n",
       "    }\n",
       "</style>\n",
       "<table border=\"1\" class=\"dataframe\">\n",
       "  <thead>\n",
       "    <tr style=\"text-align: right;\">\n",
       "      <th></th>\n",
       "      <th>arrival_date_year</th>\n",
       "      <th>arrival_date_month</th>\n",
       "      <th>arrival_date_day_of_month</th>\n",
       "      <th>adults</th>\n",
       "      <th>children</th>\n",
       "      <th>L.O.S.</th>\n",
       "      <th>adr</th>\n",
       "      <th>is_canceled</th>\n",
       "    </tr>\n",
       "  </thead>\n",
       "  <tbody>\n",
       "    <tr>\n",
       "      <th>0</th>\n",
       "      <td>2015</td>\n",
       "      <td>7</td>\n",
       "      <td>1</td>\n",
       "      <td>2</td>\n",
       "      <td>0</td>\n",
       "      <td>4</td>\n",
       "      <td>76.5</td>\n",
       "      <td>1</td>\n",
       "    </tr>\n",
       "    <tr>\n",
       "      <th>1</th>\n",
       "      <td>2015</td>\n",
       "      <td>7</td>\n",
       "      <td>1</td>\n",
       "      <td>1</td>\n",
       "      <td>0</td>\n",
       "      <td>4</td>\n",
       "      <td>68.0</td>\n",
       "      <td>1</td>\n",
       "    </tr>\n",
       "    <tr>\n",
       "      <th>2</th>\n",
       "      <td>2015</td>\n",
       "      <td>7</td>\n",
       "      <td>1</td>\n",
       "      <td>2</td>\n",
       "      <td>0</td>\n",
       "      <td>6</td>\n",
       "      <td>76.5</td>\n",
       "      <td>1</td>\n",
       "    </tr>\n",
       "    <tr>\n",
       "      <th>3</th>\n",
       "      <td>2015</td>\n",
       "      <td>7</td>\n",
       "      <td>2</td>\n",
       "      <td>2</td>\n",
       "      <td>0</td>\n",
       "      <td>2</td>\n",
       "      <td>76.5</td>\n",
       "      <td>1</td>\n",
       "    </tr>\n",
       "    <tr>\n",
       "      <th>4</th>\n",
       "      <td>2015</td>\n",
       "      <td>7</td>\n",
       "      <td>2</td>\n",
       "      <td>2</td>\n",
       "      <td>0</td>\n",
       "      <td>3</td>\n",
       "      <td>76.5</td>\n",
       "      <td>1</td>\n",
       "    </tr>\n",
       "  </tbody>\n",
       "</table>\n",
       "</div>"
      ],
      "text/plain": [
       "   arrival_date_year  arrival_date_month  arrival_date_day_of_month  adults  \\\n",
       "0               2015                   7                          1       2   \n",
       "1               2015                   7                          1       1   \n",
       "2               2015                   7                          1       2   \n",
       "3               2015                   7                          2       2   \n",
       "4               2015                   7                          2       2   \n",
       "\n",
       "   children  L.O.S.   adr  is_canceled  \n",
       "0         0       4  76.5            1  \n",
       "1         0       4  68.0            1  \n",
       "2         0       6  76.5            1  \n",
       "3         0       2  76.5            1  \n",
       "4         0       3  76.5            1  "
      ]
     },
     "execution_count": 55,
     "metadata": {},
     "output_type": "execute_result"
    }
   ],
   "source": [
    "df_.head()"
   ]
  },
  {
   "cell_type": "code",
   "execution_count": 56,
   "id": "58c0b28d-d259-4c12-b9fb-e3e2c5d50fb7",
   "metadata": {},
   "outputs": [],
   "source": [
    "# Puesto que queremos saber cual es el gasto, eliminamos aquellas reservas que han sido canceladas\n",
    "df_ = df_[df_['is_canceled'] == 0]  \n",
    "\n",
    "# Eliminar la columna \"is_canceled\"\n",
    "df_.drop(columns=['is_canceled'], inplace=True)\n",
    "\n",
    "# Crear una nueva columna que se llame \"Total_rev\" en la que multiplicamos el adr por el LOS\n",
    "df_['Total_rev'] = df_['adr'] * df_['L.O.S.']\n",
    "\n",
    "# Crear una nueva columna que se llame \"Res_date\" en formato datetime en la que convertiremos los datos de fecha\n",
    "df_['Res_date'] = pd.to_datetime(df_[['arrival_date_year', 'arrival_date_month', 'arrival_date_day_of_month']].astype(str).agg('-'.join, axis=1))\n",
    "\n",
    "# Eliminar las columnas \"arrival_date_year\", \"arrival_date_month\", \"arrival_date_day_of_month\"\n",
    "df_.drop(columns=['arrival_date_year', 'arrival_date_month', 'arrival_date_day_of_month'], inplace=True)"
   ]
  },
  {
   "cell_type": "code",
   "execution_count": 57,
   "id": "3917bc60-e998-48a0-90cd-65c52b5cc397",
   "metadata": {},
   "outputs": [
    {
     "data": {
      "text/html": [
       "<div>\n",
       "<style scoped>\n",
       "    .dataframe tbody tr th:only-of-type {\n",
       "        vertical-align: middle;\n",
       "    }\n",
       "\n",
       "    .dataframe tbody tr th {\n",
       "        vertical-align: top;\n",
       "    }\n",
       "\n",
       "    .dataframe thead th {\n",
       "        text-align: right;\n",
       "    }\n",
       "</style>\n",
       "<table border=\"1\" class=\"dataframe\">\n",
       "  <thead>\n",
       "    <tr style=\"text-align: right;\">\n",
       "      <th></th>\n",
       "      <th>adults</th>\n",
       "      <th>children</th>\n",
       "      <th>L.O.S.</th>\n",
       "      <th>adr</th>\n",
       "      <th>Total_rev</th>\n",
       "      <th>Res_date</th>\n",
       "    </tr>\n",
       "  </thead>\n",
       "  <tbody>\n",
       "    <tr>\n",
       "      <th>5</th>\n",
       "      <td>1</td>\n",
       "      <td>0</td>\n",
       "      <td>3</td>\n",
       "      <td>58.67</td>\n",
       "      <td>176.01</td>\n",
       "      <td>2015-07-02</td>\n",
       "    </tr>\n",
       "    <tr>\n",
       "      <th>9</th>\n",
       "      <td>2</td>\n",
       "      <td>0</td>\n",
       "      <td>2</td>\n",
       "      <td>86.00</td>\n",
       "      <td>172.00</td>\n",
       "      <td>2015-07-03</td>\n",
       "    </tr>\n",
       "    <tr>\n",
       "      <th>10</th>\n",
       "      <td>2</td>\n",
       "      <td>0</td>\n",
       "      <td>2</td>\n",
       "      <td>43.00</td>\n",
       "      <td>86.00</td>\n",
       "      <td>2015-07-03</td>\n",
       "    </tr>\n",
       "    <tr>\n",
       "      <th>11</th>\n",
       "      <td>2</td>\n",
       "      <td>0</td>\n",
       "      <td>2</td>\n",
       "      <td>86.00</td>\n",
       "      <td>172.00</td>\n",
       "      <td>2015-07-03</td>\n",
       "    </tr>\n",
       "    <tr>\n",
       "      <th>12</th>\n",
       "      <td>1</td>\n",
       "      <td>0</td>\n",
       "      <td>2</td>\n",
       "      <td>63.00</td>\n",
       "      <td>126.00</td>\n",
       "      <td>2015-07-03</td>\n",
       "    </tr>\n",
       "  </tbody>\n",
       "</table>\n",
       "</div>"
      ],
      "text/plain": [
       "    adults  children  L.O.S.    adr  Total_rev   Res_date\n",
       "5        1         0       3  58.67     176.01 2015-07-02\n",
       "9        2         0       2  86.00     172.00 2015-07-03\n",
       "10       2         0       2  43.00      86.00 2015-07-03\n",
       "11       2         0       2  86.00     172.00 2015-07-03\n",
       "12       1         0       2  63.00     126.00 2015-07-03"
      ]
     },
     "execution_count": 57,
     "metadata": {},
     "output_type": "execute_result"
    }
   ],
   "source": [
    "df_.head()"
   ]
  },
  {
   "cell_type": "code",
   "execution_count": 58,
   "id": "ca100d7e-6fd8-4efd-9744-ffb989b50fec",
   "metadata": {},
   "outputs": [],
   "source": [
    "# Dividir el df 3 dataframes diferentes:\n",
    "        # df_2pax: para reservas que solo tienen 2 personas y eliminamos las columnas adults y children\n",
    "df_2pax = df_[df_['adults'] + df_['children'] == 2].drop(columns=['adults', 'children'])\n",
    "df_2pax = df_2pax.groupby('Res_date')['Total_rev'].mean().reset_index()\n",
    "# df_2pax.drop(columns=['L.O.S.', 'adr'], inplace=True)\n",
    "        # df_3pax: para las de 3 y hacemos lo mismo\n",
    "df_3pax = df_[df_['adults'] + df_['children'] == 3].drop(columns=['adults', 'children'])\n",
    "df_3pax = df_3pax.groupby('Res_date')['Total_rev'].mean().reset_index()\n",
    "# df_3pax.drop(columns=['L.O.S.', 'adr'], inplace=True)\n",
    "        # df_4pax: para las de 4 y hacemos lo mismo\n",
    "df_4pax = df_[df_['adults'] + df_['children'] == 4].drop(columns=['adults', 'children'])\n",
    "df_4pax = df_4pax.groupby('Res_date')['Total_rev'].mean().reset_index()\n",
    "# df_4pax.drop(columns=['L.O.S.', 'adr'], inplace=True)\n",
    "# Nos quedan 3 dfs con 2 columnas cada uno, justo lo que necesitamos para hacer el modelo ARIMA"
   ]
  },
  {
   "cell_type": "code",
   "execution_count": null,
   "id": "ed10ff6b-3114-4511-b8bb-5d26188db27b",
   "metadata": {},
   "outputs": [],
   "source": []
  },
  {
   "cell_type": "markdown",
   "id": "17ee9d78-b9dc-4ed1-9a3b-eeae51a9a3af",
   "metadata": {},
   "source": [
    "#### We perform the Augmented Dickey-Fuller Test (ADF) to determine if the time series data is stationary or not."
   ]
  },
  {
   "cell_type": "markdown",
   "id": "8813e7a9-ba50-4045-adfc-a0aecb7c9a5f",
   "metadata": {},
   "source": [
    "We perform the Augmented Dickey-Fuller Test (ADF) to determine if the time series data is stationary or not."
   ]
  },
  {
   "cell_type": "code",
   "execution_count": 59,
   "id": "e54fcb13-8300-47d0-8955-52ab04aef111",
   "metadata": {},
   "outputs": [
    {
     "name": "stdout",
     "output_type": "stream",
     "text": [
      "ADF Statistic: -2.436760485815873\n",
      "p-value: 0.1316286357225247\n"
     ]
    }
   ],
   "source": [
    "from statsmodels.tsa.stattools import adfuller\n",
    "\n",
    "result_df_2pax = adfuller(df_2pax['Total_rev'])\n",
    "print('ADF Statistic:', result_df_2pax[0])\n",
    "print('p-value:', result_df_2pax[1])"
   ]
  },
  {
   "cell_type": "code",
   "execution_count": 60,
   "id": "2b3b6477-14b9-4c94-b476-78830ce2f42d",
   "metadata": {},
   "outputs": [
    {
     "name": "stdout",
     "output_type": "stream",
     "text": [
      "ADF Statistic: -4.885927545083877\n",
      "p-value: 3.71420065828219e-05\n"
     ]
    }
   ],
   "source": [
    "result_df_3pax = adfuller(df_3pax['Total_rev'])\n",
    "print('ADF Statistic:', result_df_3pax[0])\n",
    "print('p-value:', result_df_3pax[1])"
   ]
  },
  {
   "cell_type": "markdown",
   "id": "c8240322-1653-4449-b2a7-4b53c9db1ed6",
   "metadata": {},
   "source": [
    "For the time series df2_pax and df_3pax, we observe that they are not stationary. Therefore, we will not use ARIMA for forecasting."
   ]
  },
  {
   "cell_type": "code",
   "execution_count": 61,
   "id": "d3db6f22-03f7-428b-a575-af4e4a44e1d6",
   "metadata": {
    "scrolled": true
   },
   "outputs": [
    {
     "name": "stdout",
     "output_type": "stream",
     "text": [
      "ADF Statistic: -18.566594717638065\n",
      "p-value: 2.0846880228308853e-30\n"
     ]
    }
   ],
   "source": [
    "result_df_4pax = adfuller(df_4pax['Total_rev'])\n",
    "print('ADF Statistic:', result_df_4pax[0])\n",
    "print('p-value:', result_df_4pax[1])"
   ]
  },
  {
   "cell_type": "code",
   "execution_count": null,
   "id": "c2e26412-c0bf-4657-bbe4-0278ec8289e5",
   "metadata": {},
   "outputs": [],
   "source": []
  },
  {
   "cell_type": "markdown",
   "id": "d6a589e3-fbae-4c90-a279-181b46b483cd",
   "metadata": {},
   "source": [
    "We observe seasonality, so we could consider using ARIMA."
   ]
  },
  {
   "cell_type": "markdown",
   "id": "2b9de21b-0280-4527-a903-1f13deb991b7",
   "metadata": {},
   "source": []
  }
 ],
 "metadata": {
  "kernelspec": {
   "display_name": "Python 3 (ipykernel)",
   "language": "python",
   "name": "python3"
  },
  "language_info": {
   "codemirror_mode": {
    "name": "ipython",
    "version": 3
   },
   "file_extension": ".py",
   "mimetype": "text/x-python",
   "name": "python",
   "nbconvert_exporter": "python",
   "pygments_lexer": "ipython3",
   "version": "3.9.18"
  }
 },
 "nbformat": 4,
 "nbformat_minor": 5
}
